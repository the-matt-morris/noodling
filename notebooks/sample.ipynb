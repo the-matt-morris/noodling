{
 "cells": [
  {
   "cell_type": "code",
   "execution_count": 2,
   "metadata": {},
   "outputs": [],
   "source": [
    "import functools\n",
    "import pytest\n",
    "from typing import Any, Callable"
   ]
  },
  {
   "cell_type": "code",
   "execution_count": 3,
   "metadata": {},
   "outputs": [],
   "source": [
    "import math\n",
    "\n",
    "\n",
    "def pythagorean(x: float, y: float) -> float:\n",
    "    return math.sqrt(x**2 + y**2)"
   ]
  },
  {
   "cell_type": "code",
   "execution_count": null,
   "metadata": {},
   "outputs": [],
   "source": [
    "def parametrize(func: Callable[..., Any]):\n",
    "    @functools.wraps(func)\n",
    "    def wrapper(*args, expected: Any):\n",
    "        assert func(*args) == expected\n",
    "    return wrapper\n",
    "    \n",
    "\n",
    "@parametrize()\n",
    "def test_it()"
   ]
  }
 ],
 "metadata": {
  "interpreter": {
   "hash": "ab1bdc2b3c74b72c458c937096f186c7691394bfdfb631dea7bd387073a2da0b"
  },
  "kernelspec": {
   "display_name": "Python 3.10.2 ('noodling')",
   "language": "python",
   "name": "python3"
  },
  "language_info": {
   "codemirror_mode": {
    "name": "ipython",
    "version": 3
   },
   "file_extension": ".py",
   "mimetype": "text/x-python",
   "name": "python",
   "nbconvert_exporter": "python",
   "pygments_lexer": "ipython3",
   "version": "3.10.2"
  },
  "orig_nbformat": 4
 },
 "nbformat": 4,
 "nbformat_minor": 2
}
